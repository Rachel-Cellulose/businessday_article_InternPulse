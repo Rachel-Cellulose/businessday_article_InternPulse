{
 "cells": [
  {
   "cell_type": "code",
   "execution_count": null,
   "id": "0dfb2c1b-36b6-4e51-a808-c45254719b74",
   "metadata": {},
   "outputs": [],
   "source": [
    "import requests\n",
    "from bs4 import BeautifulSoup\n",
    "import pandas as pd\n",
    "\n",
    "# Simulated scraping step (hypothetical)\n",
    "url = \"https://www.businessday.ng/category/news/\"\n",
    "response = requests.get(url)\n",
    "soup = BeautifulSoup(response.text, 'html.parser')\n",
    "\n",
    "# Normally, you'd extract article titles and content here\n",
    "# Example (fake extraction)\n",
    "articles = []\n",
    "for article_tag in soup.find_all('div', class_='post-title'):\n",
    "    title = article_tag.text.strip()\n",
    "    articles.append({'title': title})\n",
    "\n",
    "# But for this project, we proceed with a pre-collected dataset\n",
    "df = pd.read_csv('../data/businessDay_articles.csv')\n",
    "df.head()\n",
    "\n",
    "\n"
   ]
  },
  {
   "cell_type": "code",
   "execution_count": null,
   "id": "57ab823a-6144-499a-942f-c2b1c9f6c089",
   "metadata": {},
   "outputs": [],
   "source": []
  },
  {
   "cell_type": "code",
   "execution_count": null,
   "id": "ad6f9e2b-fe96-4e5a-a197-dd9056e2764f",
   "metadata": {},
   "outputs": [],
   "source": []
  }
 ],
 "metadata": {
  "kernelspec": {
   "display_name": "Python 3 (ipykernel)",
   "language": "python",
   "name": "python3"
  },
  "language_info": {
   "codemirror_mode": {
    "name": "ipython",
    "version": 3
   },
   "file_extension": ".py",
   "mimetype": "text/x-python",
   "name": "python",
   "nbconvert_exporter": "python",
   "pygments_lexer": "ipython3",
   "version": "3.9.7"
  }
 },
 "nbformat": 4,
 "nbformat_minor": 5
}
